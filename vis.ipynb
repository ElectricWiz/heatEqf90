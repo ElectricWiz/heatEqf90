{
 "cells": [
  {
   "cell_type": "code",
   "execution_count": 1,
   "metadata": {},
   "outputs": [
    {
     "name": "stderr",
     "output_type": "stream",
     "text": [
      "/tmp/ipykernel_675/78188443.py:17: RuntimeWarning: More than 20 figures have been opened. Figures created through the pyplot interface (`matplotlib.pyplot.figure`) are retained until explicitly closed and may consume too much memory. (To control this warning, see the rcParam `figure.max_open_warning`). Consider using `matplotlib.pyplot.close()`.\n",
      "  plt.figure()\n"
     ]
    }
   ],
   "source": [
    "import pandas as pd\n",
    "import matplotlib.pyplot as plt\n",
    "import imageio\n",
    "import os\n",
    "\n",
    "# Step 1: Read the .csv file\n",
    "data = pd.read_csv('heat_data.csv')\n",
    "\n",
    "# Step 2: Create a directory to save the images\n",
    "os.makedirs('plots', exist_ok=True)\n",
    "\n",
    "# Step 3: Plot the data and save each plot as an image\n",
    "filenames = []\n",
    "time_steps = data['Time'].unique()\n",
    "\n",
    "for time_step in time_steps:\n",
    "    plt.figure()\n",
    "    subset = data[data['Time'] == time_step]\n",
    "    plt.plot(subset.columns[1:], subset.iloc[0, 1:])\n",
    "    plt.ylim(0, 1)  # Fix the y-axis limits\n",
    "    plt.title(f'Time step {time_step}')\n",
    "    plt.xlabel('Position')\n",
    "    plt.ylabel('Value')\n",
    "    filename = f'plots/plot_{time_step}.png'\n",
    "    plt.savefig(filename)\n",
    "    filenames.append(filename)\n",
    "\n",
    "# Step 4: Create a GIF from the images\n",
    "with imageio.get_writer('heat_data.gif', mode='I', duration=0.5) as writer:\n",
    "    for filename in filenames:\n",
    "        image = imageio.imread(filename)\n",
    "        writer.append_data(image)\n",
    "\n",
    "# Step 5: Clean up the images\n",
    "for filename in filenames:\n",
    "    os.remove(filename)\n",
    "\n",
    "print(\"GIF created successfully!\")"
   ]
  },
  {
   "cell_type": "code",
   "execution_count": null,
   "metadata": {},
   "outputs": [],
   "source": []
  }
 ],
 "metadata": {
  "kernelspec": {
   "display_name": "Numeric",
   "language": "python",
   "name": "python3"
  },
  "language_info": {
   "codemirror_mode": {
    "name": "ipython",
    "version": 3
   },
   "file_extension": ".py",
   "mimetype": "text/x-python",
   "name": "python",
   "nbconvert_exporter": "python",
   "pygments_lexer": "ipython3",
   "version": "3.12.4"
  }
 },
 "nbformat": 4,
 "nbformat_minor": 2
}
